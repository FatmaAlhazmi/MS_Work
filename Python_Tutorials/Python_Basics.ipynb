{
 "cells": [
  {
   "cell_type": "markdown",
   "id": "611f1273-decc-4a0b-9518-f9ac4830fd20",
   "metadata": {},
   "source": [
    "# Python Syntax and Fundamentals\n",
    "\n",
    "## 1.1 Understanding Variables\n",
    "\n",
    "### Declaring Variables and Assigning Values\n",
    "\n",
    "\n",
    "In Python, variables are used to store data. You can assign a value to a variable using the `=` operator. The type of the variable is determined automatically based on the value you assign."
   ]
  },
  {
   "cell_type": "code",
   "execution_count": 52,
   "id": "0c097499-d410-4442-afca-0a794609ce31",
   "metadata": {},
   "outputs": [
    {
     "data": {
      "text/plain": [
       "(10, 3.14, 'Physics')"
      ]
     },
     "execution_count": 52,
     "metadata": {},
     "output_type": "execute_result"
    }
   ],
   "source": [
    "x = 10       \n",
    "y = 3.14     \n",
    "name = \"Physics\"   \n",
    "\n",
    "x, y, name"
   ]
  },
  {
   "cell_type": "markdown",
   "id": "f11e2160-e356-479f-a4a1-4faf1116d4a2",
   "metadata": {},
   "source": [
    "### Data Types: int, float, str, bool\n",
    "\n",
    "Here are the most commonly used data types:\n",
    "\n",
    "#### 1. Integer (int)"
   ]
  },
  {
   "cell_type": "code",
   "execution_count": 5,
   "id": "0d219b88-7fdf-42ab-9f3e-f765313fa842",
   "metadata": {},
   "outputs": [
    {
     "data": {
      "text/plain": [
       "(25, int)"
      ]
     },
     "execution_count": 5,
     "metadata": {},
     "output_type": "execute_result"
    }
   ],
   "source": [
    "age = 25  \n",
    "\n",
    "age, type(age)"
   ]
  },
  {
   "cell_type": "markdown",
   "id": "bd39a9d2-557f-4659-9c93-68a6acc80429",
   "metadata": {},
   "source": [
    "#### 2. Floating-Point Number (float)\n",
    "\n",
    "A float is a number that includes a decimal point."
   ]
  },
  {
   "cell_type": "code",
   "execution_count": 6,
   "id": "d6ad3b56-2801-49ea-b143-0ba633610974",
   "metadata": {},
   "outputs": [
    {
     "data": {
      "text/plain": [
       "(3.14159, float)"
      ]
     },
     "execution_count": 6,
     "metadata": {},
     "output_type": "execute_result"
    }
   ],
   "source": [
    "pi = 3.14159 \n",
    "\n",
    "pi, type(pi)"
   ]
  },
  {
   "cell_type": "markdown",
   "id": "4e9b8544-fc3d-407a-b2de-3c85b1c3fe8f",
   "metadata": {},
   "source": [
    "#### 3. String (str)\n",
    "\n",
    "A string is a sequence of characters enclosed in single (') or double (\") quotes."
   ]
  },
  {
   "cell_type": "code",
   "execution_count": 9,
   "id": "0062cd29-0200-42af-846c-e972fcc0d4ed",
   "metadata": {},
   "outputs": [
    {
     "data": {
      "text/plain": [
       "('Hello, physics world!', str)"
      ]
     },
     "execution_count": 9,
     "metadata": {},
     "output_type": "execute_result"
    }
   ],
   "source": [
    "greeting = \"Hello, physics world!\"\n",
    "\n",
    "greeting, type(greeting)"
   ]
  },
  {
   "cell_type": "markdown",
   "id": "f85b45e3-61b7-476d-8cd7-32f292178325",
   "metadata": {},
   "source": [
    "#### 4. Boolean (bool)\n",
    "\n",
    "A boolean represents one of two values: True or False."
   ]
  },
  {
   "cell_type": "code",
   "execution_count": 10,
   "id": "96b19882-a9ae-49b1-8e71-02f729978a94",
   "metadata": {},
   "outputs": [
    {
     "data": {
      "text/plain": [
       "(False, bool)"
      ]
     },
     "execution_count": 10,
     "metadata": {},
     "output_type": "execute_result"
    }
   ],
   "source": [
    "is_odd = (x % 2 != 0)  # checking if x is odd\n",
    "is_odd, type(is_odd)"
   ]
  },
  {
   "cell_type": "markdown",
   "id": "228b2c65-ea7b-44cb-affc-e232185a3b16",
   "metadata": {},
   "source": [
    "## 1.2 Arithmetic Operations\n",
    "\n",
    "### Overview of Arithmetic Operators\n",
    "\n",
    "Python provides all the basic arithmetic operators you'd expect for numerical computations. Here's a quick breakdown:\n",
    "\n",
    "- `+`: Addition\n",
    "- `-`: Subtraction\n",
    "- `*`: Multiplication\n",
    "- `/`: Division\n",
    "- `**`: Exponentiation\n",
    "- `%`: Modulus (remainder after division)\n",
    "\n",
    "You can combine these operators to build complex expressions.\n",
    "\n",
    "---\n",
    "\n",
    "### Basic Operations with Examples\n",
    "\n",
    "Here’s how each operator works with simple numbers:"
   ]
  },
  {
   "cell_type": "code",
   "execution_count": 11,
   "id": "90e0135b-8786-4c1d-92c0-43f6071c4b65",
   "metadata": {},
   "outputs": [
    {
     "name": "stdout",
     "output_type": "stream",
     "text": [
      "Addition: 10 + 3 = 13\n",
      "Subtraction: 10 - 3 = 7\n",
      "Multiplication: 10 * 3 = 30\n",
      "Division: 10 / 3 = 3.3333333333333335\n",
      "Exponentiation: 10 ** 3 = 1000\n",
      "Modulus: 10 % 3 = 1\n"
     ]
    }
   ],
   "source": [
    "# Basics\n",
    "a = 10\n",
    "b = 3\n",
    "\n",
    "print(\"Addition: {a} + {b} = {a + b}\")\n",
    "print(\"Subtraction: {a} - {b} = {a - b}\")\n",
    "print(\"Multiplication: {a} * {b} = {a * b}\")\n",
    "print(\"Division: {a} / {b} = {a / b}\")\n",
    "print(\"Exponentiation: {a} ** {b} = {a ** b}\")\n",
    "print(\"Modulus: {a} % {b} = {a % b}\")"
   ]
  },
  {
   "cell_type": "markdown",
   "id": "c46f025f-93b0-405e-a77d-e99ac536ee9c",
   "metadata": {},
   "source": [
    "Just like in math, Python follows the order of operations (also called precedence). The hierarchy is:\n",
    "\t1.\tParentheses ()\n",
    "\t2.\tExponentiation **\n",
    "\t3.\tMultiplication *, Division /, Modulus %\n",
    "\t4.\tAddition +, Subtraction -\n",
    "\n",
    "When in doubt, use parentheses to make your expressions clearer. Let’s see an example:"
   ]
  },
  {
   "cell_type": "code",
   "execution_count": 13,
   "id": "c9fbd65d-5ff3-4646-b1e8-763f640b5eca",
   "metadata": {},
   "outputs": [
    {
     "data": {
      "text/plain": [
       "(11, 21)"
      ]
     },
     "execution_count": 13,
     "metadata": {},
     "output_type": "execute_result"
    }
   ],
   "source": [
    "x = 5 + 2 * 3  \n",
    "y = (5 + 2) * 3  \n",
    "\n",
    "x, y"
   ]
  },
  {
   "cell_type": "markdown",
   "id": "ad9c24be-f9de-4b09-8967-e9facfad83bd",
   "metadata": {},
   "source": [
    "## 1.3 Basic Input and Output\n",
    "\n",
    "### Using `input()` to gather user input\n",
    "\n",
    "The `input()` function is how we make our programs interactive. Instead of hardcoding values, we can ask users to provide them while the program is running. \n",
    "\n",
    "By default, `input()` reads everything as a string, so if you want a number, you'll need to convert it using `int()` or `float()` depending on whether you're dealing with integers or decimals.\n",
    "\n",
    "Here’s a simple example:"
   ]
  },
  {
   "cell_type": "code",
   "execution_count": 20,
   "id": "ffb7881d-2b56-4e0e-af45-64c4b1632c41",
   "metadata": {},
   "outputs": [
    {
     "name": "stdin",
     "output_type": "stream",
     "text": [
      "Enter the initial velocity (m/s):  0\n",
      "Enter the launch angle (degrees):  60\n"
     ]
    },
    {
     "name": "stdout",
     "output_type": "stream",
     "text": [
      "You entered: Initial velocity = 0.0 m/s, Angle = 60.0 degrees\n"
     ]
    }
   ],
   "source": [
    "v0 = float(input(\"Enter the initial velocity (m/s): \"))  \n",
    "theta = float(input(\"Enter the launch angle (degrees): \"))\n",
    "\n",
    "print(f\"You entered: Initial velocity = {v0} m/s, Angle = {theta} degrees\")"
   ]
  },
  {
   "cell_type": "markdown",
   "id": "0ac81916-0913-41c8-9997-1860910b384a",
   "metadata": {},
   "source": [
    "In this example, we’re collecting the initial velocity and launch angle from the user. Notice how the `float()` conversion ensures that we can handle decimal values like 15.5 for the velocity.\n",
    "\n",
    "\n",
    "### Printing results with formatted strings\n",
    "\n",
    "Once we’ve calculated something, it’s important to display it clearly. Python’s formatted strings (often called f-strings) make this process intuitive and neat. You can include variables directly inside a string using curly braces {}, which makes your output much easier to read.\n",
    "\n",
    "Here’s an example:"
   ]
  },
  {
   "cell_type": "markdown",
   "id": "1d961315-714f-443e-b0a8-85361309a245",
   "metadata": {},
   "source": [
    "Printing Results with Formatted Strings\n",
    "\n",
    "Once we’ve calculated something, it’s important to display it clearly. Python’s formatted strings (often called f-strings) make this process intuitive and neat. You can include variables directly inside a string using curly braces {}, which makes your output much easier to read.\n",
    "\n",
    "Here’s an example:"
   ]
  },
  {
   "cell_type": "code",
   "execution_count": 19,
   "id": "715536d6-1966-4694-b96a-12b8e5944bbc",
   "metadata": {},
   "outputs": [
    {
     "name": "stdout",
     "output_type": "stream",
     "text": [
      "The result is approximately 42.14.\n"
     ]
    }
   ],
   "source": [
    "result = 42.13579  \n",
    "print(f\"The result is approximately {result:.2f}.\")  # rounded to 2 decimal places"
   ]
  },
  {
   "cell_type": "markdown",
   "id": "dc5f7854-8157-4c52-b1ae-e8d202bf2e58",
   "metadata": {},
   "source": [
    "You can easily include more variables in the same string for complex outputs.\n",
    "\n",
    "----\n",
    "\n",
    "### Example: Display the Range of a Projectile\n",
    "\n",
    "Let’s apply this to a real-world physics example. We’ll calculate the range of a projectile using the formula:\n",
    "\n",
    "$$\n",
    "R = \\frac{{v_0^2 \\sin(2\\theta)}}{{g}}\n",
    "$$\n",
    "\n",
    "Where:\n",
    "\n",
    "- ( $v_0$ ) is the initial velocity (in m/s),\n",
    "- ( $\\theta$ ) is the launch angle (in degrees),\n",
    "- ( $g$ ) is the acceleration due to gravity (( 9.81 , \\text{m/s}^2 )).\n",
    "\n",
    "Here’s how you can implement this:"
   ]
  },
  {
   "cell_type": "code",
   "execution_count": 23,
   "id": "2b1fb516-f05a-41b4-ac8d-2599797c273f",
   "metadata": {},
   "outputs": [
    {
     "name": "stdin",
     "output_type": "stream",
     "text": [
      "Enter the initial velocity (m/s):  20\n",
      "Enter the launch angle (degrees):  45\n"
     ]
    },
    {
     "name": "stdout",
     "output_type": "stream",
     "text": [
      "The range of the projectile is approximately 40.77 meters.\n"
     ]
    }
   ],
   "source": [
    "import math\n",
    "\n",
    "# inputs\n",
    "v0 = float(input(\"Enter the initial velocity (m/s): \"))\n",
    "theta = float(input(\"Enter the launch angle (degrees): \"))\n",
    "g = 9.81\n",
    "\n",
    "# conert angle to rads\n",
    "theta_rad = math.radians(theta)\n",
    "range_projectile = (v0**2 * math.sin(2 * theta_rad)) / g\n",
    "print(f\"The range of the projectile is approximately {range_projectile:.2f} meters.\")"
   ]
  },
  {
   "cell_type": "markdown",
   "id": "b58b1b99-e4a7-42b3-8746-fccc83e6ac74",
   "metadata": {},
   "source": [
    "\n",
    "### Adding Options for More Calculations\n",
    "\n",
    "You can take this further by offering the user choices. For example, let’s calculate not just the range but also the maximum height and time of flight."
   ]
  },
  {
   "cell_type": "code",
   "execution_count": 24,
   "id": "e19f46b6-8c86-4913-9539-814d3d78de1f",
   "metadata": {},
   "outputs": [
    {
     "name": "stdin",
     "output_type": "stream",
     "text": [
      "What would you like to calculate? Choose 'range', 'height', or 'time':  height\n"
     ]
    },
    {
     "name": "stdout",
     "output_type": "stream",
     "text": [
      "The maximum height of the projectile is approximately 10.19 meters.\n"
     ]
    }
   ],
   "source": [
    "choice = input(\"What would you like to calculate? Choose 'range', 'height', or 'time': \").lower()\n",
    "\n",
    "if choice == 'range':\n",
    "    range_projectile = (v0**2 * math.sin(2 * theta_rad)) / g\n",
    "    print(f\"The range of the projectile is approximately {range_projectile:.2f} meters.\")\n",
    "elif choice == 'height':\n",
    "    max_height = (v0**2 * (math.sin(theta_rad))**2) / (2 * g)\n",
    "    print(f\"The maximum height of the projectile is approximately {max_height:.2f} meters.\")\n",
    "elif choice == 'time':\n",
    "    time_of_flight = (2 * v0 * math.sin(theta_rad)) / g\n",
    "    print(f\"The total time of flight is approximately {time_of_flight:.2f} seconds.\")\n",
    "else:\n",
    "    print(\"Invalid choice. Please select 'range', 'height', or 'time'.\")"
   ]
  },
  {
   "cell_type": "markdown",
   "id": "662b7c7b-00af-4ce6-a60c-52ab5cd21e4b",
   "metadata": {},
   "source": [
    "This program now covers three calculations, and the user can decide which one they’re interested in.\n",
    "\n"
   ]
  },
  {
   "cell_type": "markdown",
   "id": "f95f60e0-74e2-48cd-a979-205f38ecd398",
   "metadata": {},
   "source": [
    "# Control Structures\n",
    "\n",
    "## 2.1 If Statement\n",
    "\n",
    "### Syntax: `if`, `elif`, and `else`\n",
    "\n",
    "The `if` statement allows you to make decisions in your code. Think of it as the way your program can \"choose\" what to do based on specific conditions.\n",
    "\n",
    "Here’s the basic structure:\n",
    "\n",
    "```python\n",
    "if condition:\n",
    "    # to execute if condition is True\n",
    "elif another_condition:\n",
    "    # if the previous condition is False and this one is True\n",
    "else:\n",
    "    # if none of the conditions are True\n",
    "\n",
    "Let’s see a simple example:"
   ]
  },
  {
   "cell_type": "code",
   "execution_count": 53,
   "id": "1ed66944-884e-47a7-9f72-a000f1793494",
   "metadata": {},
   "outputs": [
    {
     "name": "stdout",
     "output_type": "stream",
     "text": [
      "The particle is moving too fast!\n"
     ]
    }
   ],
   "source": [
    "velocity = 25  \n",
    "threshold = 20\n",
    "\n",
    "if velocity > threshold:\n",
    "    print(\"The particle is moving too fast!\")\n",
    "elif velocity == threshold:\n",
    "    print(\"The particle is moving exactly at the threshold.\")\n",
    "else:\n",
    "    print(\"The particle is moving safely below the threshold.\")"
   ]
  },
  {
   "cell_type": "markdown",
   "id": "7e606a48-da78-4e80-bcd9-6bb638e3bee8",
   "metadata": {},
   "source": [
    "### Nested Conditions\n",
    "\n",
    "You can nest if statements to handle more complex situations. However, it’s good practice to keep things readable, so only use nesting when absolutely necessary."
   ]
  },
  {
   "cell_type": "code",
   "execution_count": 54,
   "id": "963aa387-f714-4e94-a79f-d0d1fcbbd157",
   "metadata": {},
   "outputs": [
    {
     "name": "stdout",
     "output_type": "stream",
     "text": [
      "The particle is fast, but not very heavy.\n"
     ]
    }
   ],
   "source": [
    "velocity = 30  \n",
    "threshold = 20\n",
    "mass = 5  \n",
    "\n",
    "if velocity > threshold:\n",
    "    if mass > 10:\n",
    "        print(\"The particle is heavy and fast!\")\n",
    "    else:\n",
    "        print(\"The particle is fast, but not very heavy.\")\n",
    "else:\n",
    "    print(\"The particle is moving safely.\")"
   ]
  },
  {
   "cell_type": "markdown",
   "id": "6fac2533-92a2-4d1d-870b-c89d90311caa",
   "metadata": {},
   "source": [
    "### Compound Conditions with Logical Operators\n",
    "\n",
    "Python provides logical operators (and, or, not) to combine conditions, which can simplify your code.\n",
    "- and: All conditions must be True.\n",
    "- or: At least one condition must be True.\n",
    "- not: Negates the condition.\n",
    "\n",
    "Here’s how they work:"
   ]
  },
  {
   "cell_type": "code",
   "execution_count": 21,
   "id": "1f87042b-477a-4e2c-94d9-9f8e209f6e30",
   "metadata": {},
   "outputs": [
    {
     "name": "stdout",
     "output_type": "stream",
     "text": [
      "The particle is either fast or heavy.\n"
     ]
    }
   ],
   "source": [
    "velocity = 25\n",
    "threshold = 20\n",
    "mass = 8\n",
    "\n",
    "# Using 'and'\n",
    "if velocity > threshold and mass > 10:\n",
    "    print(\"The particle is fast and heavy.\")\n",
    "elif velocity > threshold or mass > 10:  # Using 'or'\n",
    "    print(\"The particle is either fast or heavy.\")\n",
    "else:\n",
    "    print(\"The particle is neither fast nor heavy.\")\n",
    "\n",
    "# Using 'not'\n",
    "if not (velocity > threshold):\n",
    "    print(\"The particle is moving below the threshold.\")"
   ]
  },
  {
   "cell_type": "markdown",
   "id": "e2c1f3ae-b959-410d-bc39-2e633aa90765",
   "metadata": {},
   "source": [
    "### Example Use Case: Check Velocity Against a Threshold\n",
    "\n",
    "Let’s apply this to a real physics-related example. Suppose you’re simulating the motion of a particle and want to check if its velocity exceeds a certain threshold:"
   ]
  },
  {
   "cell_type": "code",
   "execution_count": 22,
   "id": "d4adc514-b82f-46ae-8139-9f94b0d86a97",
   "metadata": {},
   "outputs": [
    {
     "name": "stdin",
     "output_type": "stream",
     "text": [
      "Enter the particle's velocity (m/s):  10\n"
     ]
    },
    {
     "name": "stdout",
     "output_type": "stream",
     "text": [
      "The particle is moving safely with a velocity of 10.0 m/s.\n"
     ]
    }
   ],
   "source": [
    "# Particle velocity check\n",
    "velocity = float(input(\"Enter the particle's velocity (m/s): \"))\n",
    "threshold = 20.0  # Velocity threshold in m/s\n",
    "\n",
    "if velocity > threshold:\n",
    "    print(f\"Warning: The particle's velocity ({velocity} m/s) exceeds the threshold!\")\n",
    "elif velocity == threshold:\n",
    "    print(f\"The particle's velocity is exactly at the threshold: {threshold} m/s.\")\n",
    "else:\n",
    "    print(f\"The particle is moving safely with a velocity of {velocity} m/s.\")"
   ]
  },
  {
   "cell_type": "markdown",
   "id": "e1546f08-13dd-429d-8195-0f2ddab39cd9",
   "metadata": {},
   "source": [
    "# Control Structures\n",
    "\n",
    "## 2.2 For Loop\n",
    "\n",
    "### Iterating Through Sequences\n",
    "\n",
    "A `for` loop is used to iterate through sequences, such as lists, tuples, strings, or ranges of numbers. It’s one of Python’s most powerful tools for repetitive tasks.\n",
    "\n",
    "Here’s the basic syntax:\n",
    "\n",
    "```python\n",
    "for item in sequence:\n",
    "    # to execute for each item in the sequence\n",
    "\n",
    "For example:"
   ]
  },
  {
   "cell_type": "code",
   "execution_count": 1,
   "id": "0ff99168-5ee7-47ee-90c9-d30a26831361",
   "metadata": {},
   "outputs": [
    {
     "name": "stdout",
     "output_type": "stream",
     "text": [
      "I like apple\n",
      "I like banana\n",
      "I like cherry\n"
     ]
    }
   ],
   "source": [
    "fruits = [\"apple\", \"banana\", \"cherry\"]\n",
    "for fruit in fruits:\n",
    "    print(f\"I like {fruit}\")"
   ]
  },
  {
   "cell_type": "markdown",
   "id": "9e711a90-d1be-463d-8518-f6fb708727dd",
   "metadata": {},
   "source": [
    "You can also iterate through a range of numbers using the range() function:"
   ]
  },
  {
   "cell_type": "code",
   "execution_count": 2,
   "id": "39cb4bc0-7ab3-42ba-97eb-16f51764a7c6",
   "metadata": {},
   "outputs": [
    {
     "name": "stdout",
     "output_type": "stream",
     "text": [
      "Iteration 0\n",
      "Iteration 1\n",
      "Iteration 2\n",
      "Iteration 3\n",
      "Iteration 4\n"
     ]
    }
   ],
   "source": [
    "for i in range(5):  \n",
    "    print(f\"Iteration {i}\")"
   ]
  },
  {
   "cell_type": "markdown",
   "id": "9e963b19-a9d2-4385-ba85-73e6c8458fb6",
   "metadata": {},
   "source": [
    "### Applications in Time-Stepping Simulations\n",
    "\n",
    "In physics, for loops are incredibly useful for simulations, especially when you need to calculate values at regular time intervals. For example, if you’re modeling the motion of a projectile, you can use a for loop to calculate its position at each time step.\n",
    "\n",
    "---\n",
    "\n",
    "### Example: Calculate the Position of a Projectile\n",
    "\n",
    "Let’s calculate the position of a projectile at discrete time intervals using the following equations of motion:\n",
    "\n",
    "$$\n",
    "x = v_0 \\cdot \\cos(\\theta) \\cdot t\n",
    "$$\n",
    "$$\n",
    "y = v_0 \\cdot \\sin(\\theta) \\cdot t - \\frac{1}{2} g \\cdot t^2\n",
    "$$\n",
    "\n",
    "Where:\n",
    "- (x, y): Position at time (t),\n",
    "- ($v_0$): Initial velocity,\n",
    "- ($\\theta$): Launch angle,\n",
    "- (g): Gravitational acceleration ((9.81 , \\text{m/s}^2)),\n",
    "- (t): Time.\n",
    "\n",
    "Here’s how you can compute these positions:"
   ]
  },
  {
   "cell_type": "code",
   "execution_count": 25,
   "id": "805578a8-dc25-4611-9f26-b8dd57c4b07b",
   "metadata": {},
   "outputs": [
    {
     "name": "stdout",
     "output_type": "stream",
     "text": [
      "At t=0.00s: x=0.00m, y=0.00m\n",
      "At t=0.50s: x=7.07m, y=5.84m\n",
      "At t=1.00s: x=14.14m, y=9.24m\n",
      "At t=1.50s: x=21.21m, y=10.18m\n",
      "At t=2.00s: x=28.28m, y=8.66m\n",
      "At t=2.50s: x=35.36m, y=4.70m\n",
      "At t=3.00s: x=42.43m, y=0.00m (Projectile has hit the ground)\n"
     ]
    }
   ],
   "source": [
    "import math\n",
    "v0 = 20.0  \n",
    "theta = 45  \n",
    "g = 9.81  \n",
    "time_steps = 10  \n",
    "dt = 0.5  \n",
    "theta_rad = math.radians(theta)\n",
    "for step in range(time_steps + 1):  \n",
    "    t = step * dt \n",
    "    x = v0 * math.cos(theta_rad) * t  \n",
    "    y = v0 * math.sin(theta_rad) * t - 0.5 * g * t**2  \n",
    "    \n",
    "    if y < 0:\n",
    "        print(f\"At t={t:.2f}s: x={x:.2f}m, y=0.00m (Projectile has hit the ground)\")\n",
    "        break\n",
    "    \n",
    "    print(f\"At t={t:.2f}s: x={x:.2f}m, y={y:.2f}m\")"
   ]
  },
  {
   "cell_type": "markdown",
   "id": "4bd07c8b-b2cb-494a-96ac-b41a2a5eea94",
   "metadata": {},
   "source": [
    "#### Extend the Example\n",
    "\n",
    "To make this even more advanced:\n",
    "\t•\tStore the positions in a list or dictionary.\n",
    "\t•\tVisualize the trajectory using a plotting library like matplotlib.\n",
    "\n",
    "Here’s an extension that stores the positions in a list:"
   ]
  },
  {
   "cell_type": "code",
   "execution_count": 26,
   "id": "9d55d865-88af-4571-8201-823a752cdc8c",
   "metadata": {},
   "outputs": [
    {
     "name": "stdout",
     "output_type": "stream",
     "text": [
      "t=0.00s, x=0.00m, y=0.00m\n",
      "t=0.50s, x=7.07m, y=5.84m\n",
      "t=1.00s, x=14.14m, y=9.24m\n",
      "t=1.50s, x=21.21m, y=10.18m\n",
      "t=2.00s, x=28.28m, y=8.66m\n",
      "t=2.50s, x=35.36m, y=4.70m\n",
      "t=3.00s, x=42.43m, y=0.00m\n"
     ]
    }
   ],
   "source": [
    "positions = []\n",
    "\n",
    "for step in range(time_steps + 1):\n",
    "    t = step * dt\n",
    "    x = v0 * math.cos(theta_rad) * t\n",
    "    y = v0 * math.sin(theta_rad) * t - 0.5 * g * t**2\n",
    "    \n",
    "    if y < 0:\n",
    "        positions.append((t, x, 0))  # y = 0 when it hits the ground\n",
    "        break\n",
    "    \n",
    "    positions.append((t, x, y))\n",
    "\n",
    "for t, x, y in positions:\n",
    "    print(f\"t={t:.2f}s, x={x:.2f}m, y={y:.2f}m\")"
   ]
  },
  {
   "cell_type": "markdown",
   "id": "b556f8d9-62cf-418e-9130-d5be0ca3b705",
   "metadata": {},
   "source": [
    "### 2.3 Useful Functions for For Loops\n",
    "\n",
    "Python provides several built-in functions that make for loops even more powerful. Let’s look at a few of the most useful ones: enumerate, zip, and range.\n",
    "\n",
    "---\n",
    "\n",
    "#### 1. enumerate: Adding an Index to Each Iteration\n",
    "\n",
    "The enumerate() function adds an index to each item in a sequence, so you don’t have to manually track it. This is especially helpful for debugging or when you need both the item and its position.\n",
    "\n",
    "Here’s an example:"
   ]
  },
  {
   "cell_type": "code",
   "execution_count": 27,
   "id": "a2290100-edcf-4713-8c9d-491a873024f3",
   "metadata": {},
   "outputs": [
    {
     "name": "stdout",
     "output_type": "stream",
     "text": [
      "Particle 1: Velocity = 10 m/s\n",
      "Particle 2: Velocity = 20 m/s\n",
      "Particle 3: Velocity = 30 m/s\n",
      "Particle 4: Velocity = 40 m/s\n"
     ]
    }
   ],
   "source": [
    "velocities = [10, 20, 30, 40]  \n",
    "\n",
    "for index, velocity in enumerate(velocities):\n",
    "    print(f\"Particle {index + 1}: Velocity = {velocity} m/s\")"
   ]
  },
  {
   "cell_type": "markdown",
   "id": "bfe37de1-ff15-4398-b071-b20aabc40502",
   "metadata": {},
   "source": [
    "#### 2. zip: Iterating Through Multiple Sequences Simultaneously\n",
    "\n",
    "The zip() function lets you iterate through two or more sequences at the same time. This is useful when you want to combine related data, like time and position.\n",
    "\n",
    "Here’s an example:"
   ]
  },
  {
   "cell_type": "code",
   "execution_count": 28,
   "id": "bc86bbaf-448d-42f4-ac08-b8c3c1f275a6",
   "metadata": {},
   "outputs": [
    {
     "name": "stdout",
     "output_type": "stream",
     "text": [
      "At t=0s, position = 0m\n",
      "At t=1s, position = 10m\n",
      "At t=2s, position = 20m\n",
      "At t=3s, position = 30m\n"
     ]
    }
   ],
   "source": [
    "times = [0, 1, 2, 3]  \n",
    "positions = [0, 10, 20, 30]  \n",
    "\n",
    "for t, x in zip(times, positions):\n",
    "    print(f\"At t={t}s, position = {x}m\")"
   ]
  },
  {
   "cell_type": "markdown",
   "id": "1ca85dc9-effa-4176-ad8e-fd96c9641a4a",
   "metadata": {},
   "source": [
    "#### 3. range: Creating Sequences for Iterations\n",
    "\n",
    "The range() function generates a sequence of numbers, which is often used to define loop iterations. You can customize the start, stop, and step values.\n",
    "\n",
    "Here’s an example:"
   ]
  },
  {
   "cell_type": "code",
   "execution_count": 29,
   "id": "a95331c1-c5c3-47c8-9152-3c8cbc5dc443",
   "metadata": {},
   "outputs": [
    {
     "name": "stdout",
     "output_type": "stream",
     "text": [
      "Iteration: 0\n",
      "Iteration: 2\n",
      "Iteration: 4\n",
      "Iteration: 6\n",
      "Iteration: 8\n"
     ]
    }
   ],
   "source": [
    "for i in range(0, 10, 2):  \n",
    "    print(f\"Iteration: {i}\")"
   ]
  },
  {
   "cell_type": "markdown",
   "id": "0d0c9f37-6418-42fa-b4e8-651ca78c29fd",
   "metadata": {},
   "source": [
    "##### Combining enumerate, zip, and range\n",
    "\n",
    "You can combine these functions for even more control. For instance:"
   ]
  },
  {
   "cell_type": "code",
   "execution_count": 30,
   "id": "9cefc81a-9564-4b2c-ac9a-862166e63e01",
   "metadata": {},
   "outputs": [
    {
     "name": "stdout",
     "output_type": "stream",
     "text": [
      "Step 1: At t=1s, velocity = 10 m/s\n",
      "Step 2: At t=2s, velocity = 20 m/s\n",
      "Step 3: At t=3s, velocity = 30 m/s\n"
     ]
    }
   ],
   "source": [
    "velocities = [10, 20, 30]\n",
    "times = [1, 2, 3]\n",
    "\n",
    "for index, (v, t) in enumerate(zip(velocities, times)):\n",
    "    print(f\"Step {index + 1}: At t={t}s, velocity = {v} m/s\")"
   ]
  },
  {
   "cell_type": "markdown",
   "id": "b234bd15-0975-4d2e-8367-176aa4b73f33",
   "metadata": {},
   "source": [
    "### 2.4 While Loop\n",
    "\n",
    "#### Syntax for Looping Until a Condition is No Longer True\n",
    "\n",
    "The while loop repeats as long as its condition evaluates to True. Unlike a for loop, which iterates over a sequence, a while loop continues until a specific condition is no longer met."
   ]
  },
  {
   "cell_type": "code",
   "execution_count": 31,
   "id": "fe791cb9-40b0-4254-af66-e8b808596b4b",
   "metadata": {},
   "outputs": [
    {
     "name": "stdout",
     "output_type": "stream",
     "text": [
      "Countdown: 5\n",
      "Countdown: 4\n",
      "Countdown: 3\n",
      "Countdown: 2\n",
      "Countdown: 1\n"
     ]
    }
   ],
   "source": [
    "count = 5\n",
    "\n",
    "while count > 0:\n",
    "    print(f\"Countdown: {count}\")\n",
    "    count -= 1  "
   ]
  },
  {
   "cell_type": "markdown",
   "id": "e155da20-0da5-4979-80da-35162673e400",
   "metadata": {},
   "source": [
    "#### Handling Potential Infinite Loops\n",
    "\n",
    "It’s easy to accidentally create an infinite loop with while, so make sure your condition will eventually become False. Always test carefully, especially when working with physical simulations.\n",
    "\n",
    "---\n",
    "\n",
    "#### Example Use Case: Simulate Projectile Motion Until the Object Hits the Ground\n",
    "\n",
    "Let’s simulate the motion of a projectile using a while loop. The loop will stop when the object hits the ground (y \\leq 0)."
   ]
  },
  {
   "cell_type": "code",
   "execution_count": 32,
   "id": "7481fb10-193f-49c4-a437-e173eed495b3",
   "metadata": {},
   "outputs": [
    {
     "name": "stdout",
     "output_type": "stream",
     "text": [
      "At t=0.10s: x=1.41m, y=1.37m\n",
      "At t=0.20s: x=2.83m, y=2.63m\n",
      "At t=0.30s: x=4.24m, y=3.80m\n",
      "At t=0.40s: x=5.66m, y=4.87m\n",
      "At t=0.50s: x=7.07m, y=5.84m\n",
      "At t=0.60s: x=8.49m, y=6.72m\n",
      "At t=0.70s: x=9.90m, y=7.50m\n",
      "At t=0.80s: x=11.31m, y=8.17m\n",
      "At t=0.90s: x=12.73m, y=8.75m\n",
      "At t=1.00s: x=14.14m, y=9.24m\n",
      "At t=1.10s: x=15.56m, y=9.62m\n",
      "At t=1.20s: x=16.97m, y=9.91m\n",
      "At t=1.30s: x=18.38m, y=10.10m\n",
      "At t=1.40s: x=19.80m, y=10.19m\n",
      "At t=1.50s: x=21.21m, y=10.18m\n",
      "At t=1.60s: x=22.63m, y=10.07m\n",
      "At t=1.70s: x=24.04m, y=9.87m\n",
      "At t=1.80s: x=25.46m, y=9.56m\n",
      "At t=1.90s: x=26.87m, y=9.16m\n",
      "At t=2.00s: x=28.28m, y=8.66m\n",
      "At t=2.10s: x=29.70m, y=8.07m\n",
      "At t=2.20s: x=31.11m, y=7.37m\n",
      "At t=2.30s: x=32.53m, y=6.58m\n",
      "At t=2.40s: x=33.94m, y=5.69m\n",
      "At t=2.50s: x=35.36m, y=4.70m\n",
      "At t=2.60s: x=36.77m, y=3.61m\n",
      "At t=2.70s: x=38.18m, y=2.43m\n",
      "At t=2.80s: x=39.60m, y=1.14m\n",
      "At t=2.90s: x=41.01m, y=0.00m (Projectile has hit the ground)\n"
     ]
    }
   ],
   "source": [
    "import math\n",
    "v0 = 20.0  \n",
    "theta = 45  \n",
    "g = 9.81  \n",
    "theta_rad = math.radians(theta)\n",
    "t = 0  \n",
    "dt = 0.1  \n",
    "x = 0  \n",
    "y = 0  \n",
    "\n",
    "while True:\n",
    "    t += dt\n",
    "    x = v0 * math.cos(theta_rad) * t\n",
    "    y = v0 * math.sin(theta_rad) * t - 0.5 * g * t**2\n",
    "\n",
    "    if y <= 0: \n",
    "        print(f\"At t={t:.2f}s: x={x:.2f}m, y=0.00m (Projectile has hit the ground)\")\n",
    "        break\n",
    "\n",
    "    print(f\"At t={t:.2f}s: x={x:.2f}m, y={y:.2f}m\")"
   ]
  },
  {
   "cell_type": "markdown",
   "id": "c914c3fb-19ec-417c-adcb-d1709ec8dd2b",
   "metadata": {},
   "source": [
    "## Defining Functions\n",
    "\n",
    "#### 3.1 Creating Reusable Functions\n",
    "\n",
    "Functions in Python let you organize your code into reusable blocks. This makes your programs modular, easier to understand, and much simpler to debug.\n",
    "\n",
    "---\n",
    "\n",
    "Syntax: def Keyword with Parameters and Return Values\n",
    "\n",
    "Here’s the basic structure of a function:"
   ]
  },
  {
   "cell_type": "code",
   "execution_count": 1,
   "id": "7c59b1a3-89f2-4d75-bbf6-f9a40d57f238",
   "metadata": {},
   "outputs": [],
   "source": [
    "def function_name(parameters):\n",
    "    return result  "
   ]
  },
  {
   "cell_type": "markdown",
   "id": "b1dd6ad6-4fae-4199-8774-c5873c5b89e0",
   "metadata": {},
   "source": [
    "Here’s a simple example:"
   ]
  },
  {
   "cell_type": "markdown",
   "id": "bdfcd48b-3bcc-4e51-8c0d-ef9163deea77",
   "metadata": {},
   "source": [
    "Here’s a simple example:"
   ]
  },
  {
   "cell_type": "markdown",
   "id": "70389f84-2ba1-4ace-a052-900902fc4ab5",
   "metadata": {},
   "source": [
    "Here’s a simple example:"
   ]
  },
  {
   "cell_type": "code",
   "execution_count": 4,
   "id": "edd4d7be-89be-4344-bc40-cfb19e50d822",
   "metadata": {},
   "outputs": [
    {
     "name": "stdout",
     "output_type": "stream",
     "text": [
      "The area of a circle with radius 5 is 78.54.\n"
     ]
    }
   ],
   "source": [
    "def calculate_circle_area(radius):\n",
    "    pi = 3.14159\n",
    "    area = pi * radius**2\n",
    "    return area\n",
    "    \n",
    "r = 5\n",
    "print(f\"The area of a circle with radius {r} is {calculate_circle_area(r):.2f}.\")"
   ]
  },
  {
   "cell_type": "markdown",
   "id": "a9207716-7160-4773-a3f2-7bd5f5757d58",
   "metadata": {},
   "source": [
    "##### Use Cases for Modular Calculations in Physics\n",
    "\n",
    "Functions are especially helpful in physics for repetitive calculations. Let’s calculate the range of a projectile using a function.\n",
    "\n",
    "The formula for the range is:\n",
    "$$\n",
    "R = \\frac{v_0^2 sin(2\\theta)}{g}\n",
    "$$\n",
    "\n",
    "Here’s how we can turn this into a function:"
   ]
  },
  {
   "cell_type": "code",
   "execution_count": 5,
   "id": "cc17d8ef-bfa7-4bc9-8bcf-f9bbe6b5d323",
   "metadata": {},
   "outputs": [
    {
     "name": "stdout",
     "output_type": "stream",
     "text": [
      "The range of the projectile is 40.77 meters.\n"
     ]
    }
   ],
   "source": [
    "import math\n",
    "\n",
    "def calculate_projectile_range(v0, theta, g=9.81):\n",
    "    theta_rad = math.radians(theta)\n",
    "    range_projectile = (v0**2 * math.sin(2 * theta_rad)) / g\n",
    "    return range_projectile\n",
    "\n",
    "v0 = 20\n",
    "theta = 45\n",
    "print(f\"The range of the projectile is {calculate_projectile_range(v0, theta):.2f} meters.\")"
   ]
  },
  {
   "cell_type": "markdown",
   "id": "9da9ec38-641b-4073-bcbc-d9d20e450e40",
   "metadata": {},
   "source": [
    "#### 3.2 Default Arguments\n",
    "\n",
    "Default arguments allow you to set default values for function parameters. This is especially useful in physics where certain constants (e.g., gravity g = 9.81) are commonly used.\n",
    "\n",
    "----\n",
    "\n",
    "Setting Default Values for Parameters\n",
    "\n",
    "Here’s how you define a function with default arguments:\n"
   ]
  },
  {
   "cell_type": "code",
   "execution_count": 7,
   "id": "74f92607-4445-4491-8286-6eb168fe377b",
   "metadata": {},
   "outputs": [
    {
     "name": "stdout",
     "output_type": "stream",
     "text": [
      "Hello, Physics Enthusiast!\n",
      "Hello, Fatma!\n"
     ]
    }
   ],
   "source": [
    "greet(name=\"Physics Enthusiast\"):\n",
    "    print(f\"Hello, {name}!\")\n",
    "\n",
    "greet()  \n",
    "greet(\"Fatma\")  "
   ]
  },
  {
   "cell_type": "markdown",
   "id": "78d093ad-257a-4503-82de-620f60d52db5",
   "metadata": {},
   "source": [
    "##### Example: Handling Different Gravitational Values\n",
    "\n",
    "Let’s extend the projectile range calculation to handle different planets by changing the gravitational acceleration."
   ]
  },
  {
   "cell_type": "code",
   "execution_count": 8,
   "id": "29d1d519-765d-4b67-ade3-77397c511d25",
   "metadata": {},
   "outputs": [
    {
     "name": "stdout",
     "output_type": "stream",
     "text": [
      "Range on Earth: 40.77 meters.\n",
      "Range on Moon (g=1.62): 246.91 meters.\n"
     ]
    }
   ],
   "source": [
    "def calculate_projectile_range(v0, theta, g=9.81):\n",
    "    theta_rad = math.radians(theta)\n",
    "    range_projectile = (v0**2 * math.sin(2 * theta_rad)) / g\n",
    "    return range_projectile\n",
    "\n",
    "v0 = 20\n",
    "theta = 45\n",
    "print(f\"Range on Earth: {calculate_projectile_range(v0, theta):.2f} meters.\")\n",
    "print(f\"Range on Moon (g=1.62): {calculate_projectile_range(v0, theta, g=1.62):.2f} meters.\")"
   ]
  },
  {
   "cell_type": "markdown",
   "id": "4b395099-bd99-468f-9bea-78687add3d34",
   "metadata": {},
   "source": [
    "### Defining Functions\n",
    "\n",
    "#### 3.3 Lambda Functions\n",
    "\n",
    "Sometimes, you need a quick, one-off function for a calculation, and defining a full function feels like overkill. That’s where lambda functions come in! They’re a way to create simple, single-line functions on the fly.\n",
    "\n",
    "---\n",
    "\n",
    "What is a Lambda Function?\n",
    "\n",
    "A lambda function is an anonymous function defined with the lambda keyword. It can take any number of inputs but only a single expression, which is evaluated and returned.\n",
    "\n",
    "Here’s the syntax:\n",
    "```python\n",
    "lambda arguments: expression"
   ]
  },
  {
   "cell_type": "markdown",
   "id": "993b24b1-5b6f-4dba-b0bd-ba5568ace032",
   "metadata": {},
   "source": [
    "##### Example:\n",
    "Let’s create a lambda function to calculate the square of a number:"
   ]
  },
  {
   "cell_type": "code",
   "execution_count": 25,
   "id": "6ad6e1dd-4ba2-42f2-acbd-e787d378cc4f",
   "metadata": {},
   "outputs": [
    {
     "data": {
      "text/plain": [
       "25"
      ]
     },
     "execution_count": 25,
     "metadata": {},
     "output_type": "execute_result"
    }
   ],
   "source": [
    "square = lambda x: x**2\n",
    "\n",
    "square(5)"
   ]
  },
  {
   "cell_type": "markdown",
   "id": "b1d77f3c-0bbe-410f-a065-16e2dee2f8de",
   "metadata": {},
   "source": [
    "Notice that we don’t use def or give the function a name like a regular function. It’s just lambda, the input (x), and the output (x**2).\n",
    "\n",
    "---\n",
    "\n",
    "##### Example Use Case: \n",
    "\n",
    "Let’s compute the total mechanical energy of an object in motion using a lambda function. The formula is:\n",
    "\n",
    "$$\n",
    "E_{total} = KE + PE = \\frac{1}{2}mv^2 +mgh\n",
    "$$\n"
   ]
  },
  {
   "cell_type": "code",
   "execution_count": 29,
   "id": "a794075b-ea80-410c-95a8-8c6ab1f54215",
   "metadata": {},
   "outputs": [
    {
     "name": "stdout",
     "output_type": "stream",
     "text": [
      "198.10 Joules.\n"
     ]
    }
   ],
   "source": [
    "mech_e = lambda m, v, h, g=9.81: 0.5 * m * v**2 + m * g * h\n",
    "m = 2.0  \n",
    "v = 10.0  \n",
    "h = 5.0  \n",
    "\n",
    "energy = mech_e(m, v, h)\n",
    "print(f\"{energy:.2f} Joules.\")"
   ]
  },
  {
   "cell_type": "markdown",
   "id": "75b97b85-e362-406a-b525-2feb81c2540e",
   "metadata": {},
   "source": [
    "##### Lambda Functions in Higher-Order Functions\n",
    "\n",
    "Lambda functions are often used as arguments for other functions like map, filter, or sorted. For example:"
   ]
  },
  {
   "cell_type": "code",
   "execution_count": 30,
   "id": "bf2f8e6c-04a6-4a3b-8c42-f64673450753",
   "metadata": {},
   "outputs": [
    {
     "data": {
      "text/plain": [
       "[100, 400, 900]"
      ]
     },
     "execution_count": 30,
     "metadata": {},
     "output_type": "execute_result"
    }
   ],
   "source": [
    "velocities = [10, 20, 30]  # list of v's\n",
    "squared_velocities = list(map(lambda v: v**2, velocities))\n",
    "squared_velocities"
   ]
  },
  {
   "cell_type": "markdown",
   "id": "7da815f4-ccd3-44ba-b95d-88af6459eba7",
   "metadata": {},
   "source": [
    "# Data Structures\n",
    "\n",
    "Python offers a variety of data structures to store and organize data. In this section, we’ll explore three key ones: lists, tuples, and dictionaries. Each has its strengths and is suited for different tasks.\n",
    "\n",
    "---\n",
    "\n",
    "#### 4.1 Lists\n",
    "\n",
    "A list is a mutable (modifiable) collection of items, such as numbers, strings, or even other lists. Lists are great for storing sequences of data that may need to change.\n",
    "\n",
    "---\n",
    "\n",
    "Creating and Modifying Lists"
   ]
  },
  {
   "cell_type": "code",
   "execution_count": 31,
   "id": "ff7f3862-a84c-48e7-9308-9aa092fc36aa",
   "metadata": {},
   "outputs": [
    {
     "name": "stdout",
     "output_type": "stream",
     "text": [
      "Initial positions: [0, 10, 20, 30]\n"
     ]
    }
   ],
   "source": [
    "# creating a list of particle positions\n",
    "positions = [0, 10, 20, 30]\n",
    "print(f\"Initial positions: {positions}\")"
   ]
  },
  {
   "cell_type": "markdown",
   "id": "077459f0-9b18-4b9d-9256-f0296d1cb436",
   "metadata": {},
   "source": [
    "Lists are mutable, so you can modify them:"
   ]
  },
  {
   "cell_type": "code",
   "execution_count": 32,
   "id": "c7095de3-795d-4514-9414-0f43f6365f31",
   "metadata": {},
   "outputs": [
    {
     "name": "stdout",
     "output_type": "stream",
     "text": [
      "Modified positions: [12, 20, 30, 40]\n"
     ]
    }
   ],
   "source": [
    "positions[1] = 12  # change the second position\n",
    "positions.append(40)  # add a new position\n",
    "positions.remove(0)  # remove the first position (python starts from 0)\n",
    "\n",
    "print(f\"Modified positions: {positions}\")"
   ]
  },
  {
   "cell_type": "markdown",
   "id": "952e6521-2b9d-492f-afd4-224e91add60c",
   "metadata": {},
   "source": [
    "##### Indexing and Slicing\n",
    "\n",
    "You can access elements of a list using their index (starting from 0). Slicing allows you to extract a sublist."
   ]
  },
  {
   "cell_type": "code",
   "execution_count": 33,
   "id": "3230fa5e-0e93-4e10-84e7-e307c8791929",
   "metadata": {},
   "outputs": [
    {
     "name": "stdout",
     "output_type": "stream",
     "text": [
      "1st position: 12\n",
      "last position: 40\n",
      "First two positions: [12, 20]\n"
     ]
    }
   ],
   "source": [
    "# Indexing\n",
    "print(f\"1st position: {positions[0]}\")\n",
    "print(f\"last position: {positions[-1]}\")  # negative index for the last element\n",
    "\n",
    "# Slicing\n",
    "print(f\"First two positions: {positions[:2]}\")  # up to but not including index 2"
   ]
  },
  {
   "cell_type": "markdown",
   "id": "4902c621-0ee1-4393-b69e-93a7bc38fa84",
   "metadata": {},
   "source": [
    "##### Example Use Case: \n",
    "\n",
    "Let’s store the positions of a particle at different time steps:"
   ]
  },
  {
   "cell_type": "code",
   "execution_count": 34,
   "id": "70a08748-ffc2-452c-b870-ea761bd00ace",
   "metadata": {},
   "outputs": [
    {
     "name": "stdout",
     "output_type": "stream",
     "text": [
      "Positions of the particle: [(0.0, 0.0), (7.0710678118654755, 5.844817811865474), (14.142135623730951, 9.23713562373095), (21.213203435596427, 10.176953435596422), (28.284271247461902, 8.664271247461897)]\n"
     ]
    }
   ],
   "source": [
    "import math\n",
    "\n",
    "v0 = 20  \n",
    "theta = 45  \n",
    "g = 9.81  \n",
    "positions = []  # empty to store\n",
    "time_steps = [0, 0.5, 1.0, 1.5, 2.0]\n",
    "\n",
    "for t in time_steps:\n",
    "    x = v0 * math.cos(math.radians(theta)) * t\n",
    "    y = v0 * math.sin(math.radians(theta)) * t - 0.5 * g * t**2\n",
    "    positions.append((x, y))  # store as a tuple (x, y)\n",
    "\n",
    "print(f\"Positions of the particle: {positions}\")"
   ]
  },
  {
   "cell_type": "markdown",
   "id": "b1292fe2-12c5-4a4f-b56b-ec54196fbaf7",
   "metadata": {},
   "source": [
    "#### 4.2 Tuples\n",
    "\n",
    "A tuple is an immutable sequence, meaning its elements cannot be changed after creation. Tuples are ideal for storing data that shouldn’t be modified, like constants or initial conditions\n",
    "\n",
    "##### Creating Tuples"
   ]
  },
  {
   "cell_type": "code",
   "execution_count": 35,
   "id": "10733a5f-f5ac-467c-9eea-fc243b13823d",
   "metadata": {},
   "outputs": [
    {
     "name": "stdout",
     "output_type": "stream",
     "text": [
      "Initial conditions: (20, 45, 9.81)\n"
     ]
    }
   ],
   "source": [
    "initial_conditions = (20, 45, 9.81)  # (velocity, angle, gravity)\n",
    "print(f\"Initial conditions: {initial_conditions}\")"
   ]
  },
  {
   "cell_type": "markdown",
   "id": "55691e6e-61bb-4063-85d6-592e380974ed",
   "metadata": {},
   "source": [
    "##### Example Use Case: \n",
    "\n",
    "Use tuples to store constants like the mass, velocity, and height of an object:"
   ]
  },
  {
   "cell_type": "code",
   "execution_count": 36,
   "id": "5239d2d8-56fa-4c7d-9066-1bbbfc2273b5",
   "metadata": {},
   "outputs": [
    {
     "name": "stdout",
     "output_type": "stream",
     "text": [
      "Mass: 2.0, Velocity: 10.0, Height: 5.0\n"
     ]
    }
   ],
   "source": [
    "constants = (2.0, 10.0, 5.0)  # (mass, velocity, height)\n",
    "\n",
    "mass, velocity, height = constants  # unpacking the tuple\n",
    "print(f\"Mass: {mass}, Velocity: {velocity}, Height: {height}\")"
   ]
  },
  {
   "cell_type": "markdown",
   "id": "886502cc-3414-4607-b550-dfebfba842ba",
   "metadata": {},
   "source": [
    "While you can’t modify a tuple, you can create a new one if needed.\n",
    "\n",
    "---\n",
    "\n",
    "#### 4.3 Dictionaries\n",
    "\n",
    "A dictionary is a collection of key-value pairs. It’s perfect for storing data in an organized, human-readable format, like the properties of an object.\n",
    "\n",
    "---\n",
    "\n",
    "Creating a Dictionary"
   ]
  },
  {
   "cell_type": "code",
   "execution_count": 38,
   "id": "7fae4ec0-287d-4c38-ae43-632b148df3ae",
   "metadata": {},
   "outputs": [
    {
     "data": {
      "text/plain": [
       "{'mass': 2.0, 'velocity': 10.0, 'charge': -1.6e-19}"
      ]
     },
     "execution_count": 38,
     "metadata": {},
     "output_type": "execute_result"
    }
   ],
   "source": [
    "particle = {\"mass\": 2.0, \"velocity\": 10.0, \"charge\": -1.6e-19}\n",
    "particle"
   ]
  },
  {
   "cell_type": "markdown",
   "id": "d94c7896-3c31-40dd-a8a0-7ca6eba58dc7",
   "metadata": {},
   "source": [
    "##### Accessing and modifying dictionaries\n",
    "\n",
    "Access elements by their key:"
   ]
  },
  {
   "cell_type": "code",
   "execution_count": 40,
   "id": "881c52b7-7904-4f04-9f4d-b6728a551dae",
   "metadata": {},
   "outputs": [
    {
     "data": {
      "text/plain": [
       "{'mass': 2.0, 'velocity': 15.0, 'charge': -1.6e-19, 'position': (5.0, 10.0)}"
      ]
     },
     "execution_count": 40,
     "metadata": {},
     "output_type": "execute_result"
    }
   ],
   "source": [
    "particle['mass']\n",
    "particle[\"position\"] = (5.0, 10.0)  \n",
    "particle[\"velocity\"] = 15.0 \n",
    "\n",
    "particle"
   ]
  },
  {
   "cell_type": "markdown",
   "id": "a04450ff-dc57-4e2f-a67e-399ef6742947",
   "metadata": {},
   "source": [
    "#### Example Use Case: Store Particle Properties\n",
    "\n",
    "Dictionaries are great for organizing the properties of a particle:"
   ]
  },
  {
   "cell_type": "code",
   "execution_count": 43,
   "id": "65de5635-6710-44cb-bbd6-cdffbde3734c",
   "metadata": {},
   "outputs": [
    {
     "data": {
      "text/plain": [
       "((5.0, 10.0), 2.0, -1.6e-19)"
      ]
     },
     "execution_count": 43,
     "metadata": {},
     "output_type": "execute_result"
    }
   ],
   "source": [
    "particle = {\n",
    "    \"mass\": 2.0,  \n",
    "    \"velocity\": 10.0,  \n",
    "    \"charge\": -1.6e-19, \n",
    "    \"position\": (0.0, 0.0)  \n",
    "}\n",
    "\n",
    "# accessing data\n",
    "particle['mass']\n",
    "particle['charge']\n",
    "particle['position']\n",
    "\n",
    "# modifying data\n",
    "particle[\"position\"] = (5.0, 10.0)  ### update position\n",
    "particle['position'], particle['mass'], particle['charge']"
   ]
  },
  {
   "cell_type": "markdown",
   "id": "c1cca79b-bb4c-4b4a-b440-3ffb90f3bf13",
   "metadata": {},
   "source": [
    "# List Comprehension\n",
    "\n",
    "List comprehension is a powerful feature in Python that allows you to create lists in a concise and readable way. Instead of writing a loop to generate or filter a list, you can often do it in a single line.\n",
    "\n",
    "---\n",
    "\n",
    "#### 5.1 Generating Lists\n",
    "\n",
    "With list comprehension, you can generate lists using a simple, compact syntax:\n",
    "\n",
    "```python\n",
    "[expression for item in iterable]\n",
    "```\n",
    "\n",
    "- Expression: What you want to include in the list (can involve calculations or transformations).\n",
    "- Item: The variable representing each element in the sequence.\n",
    "- Iterable: The sequence to loop over (e.g., a range or list).\n",
    "\n",
    "---\n",
    "\n",
    "##### Example: \n",
    "\n",
    "Suppose you want to calculate the positions of a particle at different time intervals. Normally, you might use a loop, but with list comprehension, it’s much simpler."
   ]
  },
  {
   "cell_type": "code",
   "execution_count": 45,
   "id": "3980d7b8-c4cf-4aaf-aaee-8ed5b0e1a869",
   "metadata": {},
   "outputs": [
    {
     "data": {
      "text/plain": [
       "[(0.0, 0.0),\n",
       " (7.0710678118654755, 5.844817811865474),\n",
       " (14.142135623730951, 9.23713562373095),\n",
       " (21.213203435596427, 10.176953435596422),\n",
       " (28.284271247461902, 8.664271247461897)]"
      ]
     },
     "execution_count": 45,
     "metadata": {},
     "output_type": "execute_result"
    }
   ],
   "source": [
    "import math\n",
    "\n",
    "v0 = 20  \n",
    "theta = 45  \n",
    "g = 9.81  \n",
    "\n",
    "# list comprehension\n",
    "\n",
    "time_steps = [0, 0.5, 1.0, 1.5, 2.0]  \n",
    "positions = [(v0 * math.cos(math.radians(theta)) * t,\n",
    "              v0 * math.sin(math.radians(theta)) * t - 0.5 * g * t**2)\n",
    "             for t in time_steps]\n",
    "\n",
    "positions"
   ]
  },
  {
   "cell_type": "markdown",
   "id": "b7d7842a-3ce1-4aef-9438-ab8b7ba6d57f",
   "metadata": {},
   "source": [
    "#### 5.2 Conditional List Comprehension\n",
    "\n",
    "You can include conditions in a list comprehension to filter data. This is done by adding an if clause at the end of the comprehension.\n",
    "\n",
    "---\n",
    "\n",
    "#### Example: \n",
    "\n",
    "Let’s filter out positions where the particle has hit the ground (y \\leq 0):"
   ]
  },
  {
   "cell_type": "code",
   "execution_count": 47,
   "id": "0400a5c1-e7e1-4d67-b588-fadfe8c878ea",
   "metadata": {},
   "outputs": [
    {
     "name": "stdout",
     "output_type": "stream",
     "text": [
      "Positions above the ground: [(7.0710678118654755, 5.844817811865474), (14.142135623730951, 9.23713562373095), (21.213203435596427, 10.176953435596422), (28.284271247461902, 8.664271247461897)]\n"
     ]
    }
   ],
   "source": [
    "positive_positions = [(x, y) for x, y in positions if y > 0]\n",
    "print(f\"Positions above the ground: {positive_positions}\")"
   ]
  },
  {
   "cell_type": "markdown",
   "id": "46798380-0e6b-437b-9d6c-c5db82bff592",
   "metadata": {},
   "source": [
    "Here’s what happens:\n",
    "- The if y > 0 condition ensures that only positions with a positive y-value are included.\n",
    "- The resulting list contains only valid positions before the particle hits the ground.\n",
    "\n",
    "---\n",
    "\n",
    "##### Combining List Comprehension with Other Features\n",
    "\n",
    "You can also use list comprehension to generate values based on more complex logic, such as calculating energies or filtering based on multiple conditions."
   ]
  },
  {
   "cell_type": "code",
   "execution_count": 48,
   "id": "3eef1bc7-7e37-44c1-88e0-af6308d127ca",
   "metadata": {},
   "outputs": [
    {
     "data": {
      "text/plain": [
       "[200.00000000000003,\n",
       " 200.00000000000003,\n",
       " 200.00000000000003,\n",
       " 200.00000000000003]"
      ]
     },
     "execution_count": 48,
     "metadata": {},
     "output_type": "execute_result"
    }
   ],
   "source": [
    "kinetic_energies = [0.5 * 2.0 * (v0 * math.cos(math.radians(theta)))**2\n",
    "                    for x, y in positive_positions]\n",
    "kinetic_energies"
   ]
  },
  {
   "cell_type": "markdown",
   "id": "2f35faf2-22a8-497c-992d-6808305ada2c",
   "metadata": {},
   "source": [
    "# Handling Errors\n",
    "\n",
    "In programming, errors are inevitable, especially when dealing with real-world physics calculations that involve complex formulas or user input. Python provides tools to handle these errors and debug your code effectively.\n",
    "\n",
    "---\n",
    "\n",
    "#### 6.1 Try-Except Blocks\n",
    "\n",
    "A try-except block lets you catch and handle runtime errors, preventing your program from crashing. For example, division by zero or invalid input are common issues in physics simulations\n",
    "\n",
    "---\n",
    "\n",
    "##### Syntax\n",
    "\n",
    "Here’s the basic structure of a try-except block:\n",
    "\n",
    "```python\n",
    "try:\n",
    "    result = risky_operation\n",
    "except SomeError:\n",
    "    print(\"An error occurred.\")"
   ]
  },
  {
   "cell_type": "markdown",
   "id": "ea1105fd-cc98-4512-8211-c4e24c978412",
   "metadata": {},
   "source": [
    "##### Example Use Case: \n",
    "\n",
    "Let’s simulate a physics problem where division by zero might occur, such as calculating a projectile’s time of flight. The formula for time is:\n",
    "\n",
    "$$\n",
    "t = \\frac{2 v_0 sin(\\theta)}{g}\n",
    "$$\n",
    "\n",
    "If the gravitational acceleration g is zero, the calculation will fail. Here’s how to handle this:"
   ]
  },
  {
   "cell_type": "code",
   "execution_count": 49,
   "id": "81372ce7-0103-4a39-be49-ff74a3c0410f",
   "metadata": {},
   "outputs": [
    {
     "name": "stdout",
     "output_type": "stream",
     "text": [
      "division by zero occurred\n"
     ]
    }
   ],
   "source": [
    "import math\n",
    "\n",
    "v0 = 20  \n",
    "theta = 45  \n",
    "g = 0  \n",
    "\n",
    "try:\n",
    "    t = (2 * v0 * math.sin(math.radians(theta))) / g\n",
    "    print(f\"Time of flight: {t:.2f} seconds\")\n",
    "except ZeroDivisionError:\n",
    "    print(\"division by zero occurred\")"
   ]
  },
  {
   "cell_type": "markdown",
   "id": "0f52128f-f636-4036-968e-9071314a425b",
   "metadata": {},
   "source": [
    "Other Common Exceptions\n",
    "\n",
    "- ValueError: Raised when a function receives an argument of the correct type but an inappropriate value.\n",
    "- TypeError: Raised when an operation is performed on incompatible types.\n",
    "- IndexError: Raised when trying to access an out-of-range index in a list.\n",
    "\n",
    "For example:"
   ]
  },
  {
   "cell_type": "code",
   "execution_count": 50,
   "id": "5d58e66a-cf2b-4a89-90a0-e3555239b229",
   "metadata": {},
   "outputs": [
    {
     "name": "stdout",
     "output_type": "stream",
     "text": [
      "Error: Please provide a valid number.\n"
     ]
    }
   ],
   "source": [
    "try:\n",
    "    x = int(\"invalid_number\")  \n",
    "except ValueError:\n",
    "    print(\"Error: Please provide a valid number.\")"
   ]
  },
  {
   "cell_type": "markdown",
   "id": "6888f844-fb0f-4a65-bcfe-568e32732dce",
   "metadata": {},
   "source": [
    "#### 6.2 Debugging with Print Statements\n",
    "\n",
    "Sometimes, you might not know why your program isn’t working as expected. Adding print statements at key points in your code helps you see intermediate results and identify issues.\n",
    "\n",
    "---\n",
    "\n",
    "##### Example Use Case: \n",
    "\n",
    "Let’s say you’re calculating the velocity of a particle at different time steps, but the results look incorrect. Adding print statements can help you debug the issue."
   ]
  },
  {
   "cell_type": "code",
   "execution_count": 51,
   "id": "fed93370-2e1d-4d88-b4f8-df9a75926bbb",
   "metadata": {
    "scrolled": true
   },
   "outputs": [
    {
     "name": "stdout",
     "output_type": "stream",
     "text": [
      "At t=0.00s: Horizontal velocity = 14.14 m/s, Vertical velocity = 14.14 m/s\n",
      "At t=0.50s: Horizontal velocity = 14.14 m/s, Vertical velocity = 9.24 m/s\n",
      "At t=1.00s: Horizontal velocity = 14.14 m/s, Vertical velocity = 4.33 m/s\n",
      "At t=1.50s: Horizontal velocity = 14.14 m/s, Vertical velocity = -0.57 m/s\n",
      "At t=2.00s: Horizontal velocity = 14.14 m/s, Vertical velocity = -5.48 m/s\n"
     ]
    }
   ],
   "source": [
    "v0 = 20  \n",
    "theta = 45  \n",
    "g = 9.81  \n",
    "time_steps = [0, 0.5, 1.0, 1.5, 2.0]  \n",
    "\n",
    "for t in time_steps:\n",
    "    horizontal_velocity = v0 * math.cos(math.radians(theta))\n",
    "    vertical_velocity = v0 * math.sin(math.radians(theta)) - g * t\n",
    "    \n",
    "    print(f\"At t={t:.2f}s: Horizontal velocity = {horizontal_velocity:.2f} m/s, \"\n",
    "          f\"Vertical velocity = {vertical_velocity:.2f} m/s\")"
   ]
  },
  {
   "cell_type": "markdown",
   "id": "3bb5aafb-5096-4b4e-afbf-1254c7a60863",
   "metadata": {},
   "source": [
    "By printing intermediate results, you can verify:\n",
    "1.\tThe calculations for each time step.\n",
    "2.\tIf any unexpected values (like negative velocities) occur.\n",
    "\n",
    "---\n",
    "\n",
    "##### Balancing Debugging and Clean Code\n",
    "\n",
    "While print statements are helpful during development, they can clutter your code. Once you’ve fixed the issue, it’s a good idea to remove or comment out these statements."
   ]
  },
  {
   "cell_type": "code",
   "execution_count": null,
   "id": "503a158d-7d82-46d7-9f21-47534ffedc0e",
   "metadata": {},
   "outputs": [],
   "source": []
  }
 ],
 "metadata": {
  "kernelspec": {
   "display_name": "Python 3 (ipykernel)",
   "language": "python",
   "name": "python3"
  },
  "language_info": {
   "codemirror_mode": {
    "name": "ipython",
    "version": 3
   },
   "file_extension": ".py",
   "mimetype": "text/x-python",
   "name": "python",
   "nbconvert_exporter": "python",
   "pygments_lexer": "ipython3",
   "version": "3.9.7"
  }
 },
 "nbformat": 4,
 "nbformat_minor": 5
}
